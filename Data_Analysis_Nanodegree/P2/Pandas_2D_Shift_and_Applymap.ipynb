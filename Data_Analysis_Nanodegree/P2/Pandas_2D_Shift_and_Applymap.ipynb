{
 "cells": [
  {
   "cell_type": "code",
   "execution_count": 1,
   "metadata": {
    "collapsed": true
   },
   "outputs": [],
   "source": [
    "import pandas as pd"
   ]
  },
  {
   "cell_type": "code",
   "execution_count": 2,
   "metadata": {
    "collapsed": true
   },
   "outputs": [],
   "source": [
    "entries_and_exits = pd.DataFrame({\n",
    "    'ENTRIESn': [3144312, 3144335, 3144353, 3144424, 3144594,\n",
    "                 3144808, 3144895, 3144905, 3144941, 3145094],\n",
    "    'EXITSn': [1088151, 1088159, 1088177, 1088231, 1088275,\n",
    "               1088317, 1088328, 1088331, 1088420, 1088753]\n",
    "})"
   ]
  },
  {
   "cell_type": "code",
   "execution_count": 26,
   "metadata": {
    "collapsed": false
   },
   "outputs": [
    {
     "data": {
      "text/plain": [
       "0    3144312\n",
       "1    3144335\n",
       "2    3144353\n",
       "3    3144424\n",
       "4    3144594\n",
       "5    3144808\n",
       "6    3144895\n",
       "7    3144905\n",
       "8    3144941\n",
       "9    3145094\n",
       "Name: ENTRIESn, dtype: int64"
      ]
     },
     "execution_count": 26,
     "metadata": {},
     "output_type": "execute_result"
    }
   ],
   "source": [
    "entries_and_exits['ENTRIESn']"
   ]
  },
  {
   "cell_type": "code",
   "execution_count": 40,
   "metadata": {
    "collapsed": false
   },
   "outputs": [
    {
     "data": {
      "text/plain": [
       "1     23.0\n",
       "2     18.0\n",
       "3     71.0\n",
       "4    170.0\n",
       "5    214.0\n",
       "6     87.0\n",
       "7     10.0\n",
       "8     36.0\n",
       "9    153.0\n",
       "Name: ENTRIESn, dtype: float64"
      ]
     },
     "execution_count": 40,
     "metadata": {},
     "output_type": "execute_result"
    }
   ],
   "source": [
    "(entries_and_exits['ENTRIESn'] - entries_and_exits['ENTRIESn'].shift(1)).dropna()"
   ]
  },
  {
   "cell_type": "code",
   "execution_count": 41,
   "metadata": {
    "collapsed": false
   },
   "outputs": [
    {
     "data": {
      "text/plain": [
       "1      8.0\n",
       "2     18.0\n",
       "3     54.0\n",
       "4     44.0\n",
       "5     42.0\n",
       "6     11.0\n",
       "7      3.0\n",
       "8     89.0\n",
       "9    333.0\n",
       "Name: EXITSn, dtype: float64"
      ]
     },
     "execution_count": 41,
     "metadata": {},
     "output_type": "execute_result"
    }
   ],
   "source": [
    "(entries_and_exits['EXITSn'] - entries_and_exits['EXITSn'].shift(1)).dropna()"
   ]
  },
  {
   "cell_type": "code",
   "execution_count": 44,
   "metadata": {
    "collapsed": false
   },
   "outputs": [
    {
     "name": "stdout",
     "output_type": "stream",
     "text": [
      "   rate_per_hour\n",
      "1            8.0\n",
      "2           18.0\n",
      "3           54.0\n",
      "4           44.0\n",
      "5           42.0\n",
      "6           11.0\n",
      "7            3.0\n",
      "8           89.0\n",
      "9          333.0\n",
      "   rate_per_hour\n",
      "1           0.08\n",
      "2           0.18\n",
      "3           0.54\n",
      "4           0.44\n",
      "5           0.42\n",
      "6           0.11\n",
      "7           0.03\n",
      "8           0.89\n",
      "9           3.33\n"
     ]
    }
   ],
   "source": [
    "def any_function(x):\n",
    "    return x / 100\n",
    "\n",
    "df = pd.DataFrame({\n",
    "    'rate_per_hour': (entries_and_exits['EXITSn'] - entries_and_exits['EXITSn'].shift(1)).dropna()\n",
    "})\n",
    "print(df)\n",
    "\n",
    "df_map = df.applymap(any_function);\n",
    "print(df_map)"
   ]
  },
  {
   "cell_type": "code",
   "execution_count": null,
   "metadata": {
    "collapsed": true
   },
   "outputs": [],
   "source": []
  }
 ],
 "metadata": {
  "kernelspec": {
   "display_name": "Python 3",
   "language": "python",
   "name": "python3"
  },
  "language_info": {
   "codemirror_mode": {
    "name": "ipython",
    "version": 3
   },
   "file_extension": ".py",
   "mimetype": "text/x-python",
   "name": "python",
   "nbconvert_exporter": "python",
   "pygments_lexer": "ipython3",
   "version": "3.6.0"
  }
 },
 "nbformat": 4,
 "nbformat_minor": 2
}
