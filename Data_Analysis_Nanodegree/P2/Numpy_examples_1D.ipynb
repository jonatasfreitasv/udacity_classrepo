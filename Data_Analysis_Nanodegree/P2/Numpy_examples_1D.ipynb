{
 "cells": [
  {
   "cell_type": "code",
   "execution_count": 34,
   "metadata": {
    "collapsed": false
   },
   "outputs": [],
   "source": [
    "import numpy as np\n",
    "\n",
    "# First 20 countries with employment data\n",
    "countries = np.array([\n",
    "    'Afghanistan', 'Albania', 'Algeria', 'Angola', 'Argentina',\n",
    "    'Armenia', 'Australia', 'Austria', 'Azerbaijan', 'Bahamas',\n",
    "    'Bahrain', 'Bangladesh', 'Barbados', 'Belarus', 'Belgium',\n",
    "    'Belize', 'Benin', 'Bhutan', 'Bolivia',\n",
    "    'Bosnia and Herzegovina'\n",
    "])\n",
    "\n",
    "# Employment data in 2007 for those 20 countries\n",
    "employment = np.array([\n",
    "    55.70000076,  51.40000153,  50.5       ,  75.69999695,\n",
    "    58.40000153,  40.09999847,  61.5       ,  57.09999847,\n",
    "    60.90000153,  66.59999847,  60.40000153,  68.09999847,\n",
    "    66.90000153,  53.40000153,  48.59999847,  56.79999924,\n",
    "    71.59999847,  58.40000153,  70.40000153,  41.20000076\n",
    "])"
   ]
  },
  {
   "cell_type": "code",
   "execution_count": 50,
   "metadata": {
    "collapsed": false
   },
   "outputs": [
    {
     "name": "stdout",
     "output_type": "stream",
     "text": [
      "Country if max value is Angola 75.69999695\n",
      "Mean is 58.6850000385\n",
      "SD is 9.33826911369\n",
      "Sum is 1173.70000077\n"
     ]
    }
   ],
   "source": [
    "print('Country if max value is %s %s' % (countries[employment.argmax()], employment.max()))\n",
    "print('Mean is %s' % employment.mean())\n",
    "print('SD is %s' % employment.std())\n",
    "print('Sum is %s' % employment.sum())"
   ]
  },
  {
   "cell_type": "code",
   "execution_count": 59,
   "metadata": {
    "collapsed": false
   },
   "outputs": [
    {
     "name": "stdout",
     "output_type": "stream",
     "text": [
      "Country Afghanistan is -0.319652308384 from mean\n",
      "Country Albania is -0.780122999221 from mean\n",
      "Country Algeria is -0.876500766775 from mean\n",
      "Country Angola is 1.82207181056 from mean\n",
      "Country Argentina is -0.0305194147899 from mean\n",
      "Country Armenia is -1.99019768463 from mean\n",
      "Country Australia is 0.301447723045 from mean\n",
      "Country Austria is -0.169731836725 from mean\n",
      "Country Azerbaijan is 0.237196151078 from mean\n",
      "Country Bahamas is 0.847587313574 from mean\n",
      "Country Bahrain is 0.183653037905 from mean\n",
      "Country Bangladesh is 1.00821665309 from mean\n",
      "Country Barbados is 0.879713509162 from mean\n",
      "Country Belarus is -0.565950546526 from mean\n",
      "Country Belgium is -1.07996476068 from mean\n",
      "Country Belize is -0.201857622173 from mean\n",
      "Country Benin is 1.38301844531 from mean\n",
      "Country Bhutan is -0.0305194147899 from mean\n",
      "Country Bolivia is 1.25451530138 from mean\n",
      "Country Bosnia and Herzegovina is -1.87240259042 from mean\n"
     ]
    }
   ],
   "source": [
    "# Away from mean, standarized data\n",
    "\n",
    "standarized_data = (employment - employment.mean()) / employment.std()\n",
    "\n",
    "for i,x in enumerate(standarized_data):\n",
    "    out = 'Country %s is %s from mean' % (countries[i], x)\n",
    "    print(out)"
   ]
  },
  {
   "cell_type": "code",
   "execution_count": 64,
   "metadata": {
    "collapsed": false
   },
   "outputs": [
    {
     "name": "stdout",
     "output_type": "stream",
     "text": [
      "# Countrys positive away from mean\n",
      "Country Afghanistan is 1.82207181056 from mean\n",
      "Country Albania is 0.301447723045 from mean\n",
      "Country Algeria is 0.237196151078 from mean\n",
      "Country Angola is 0.847587313574 from mean\n",
      "Country Argentina is 0.183653037905 from mean\n",
      "Country Armenia is 1.00821665309 from mean\n",
      "Country Australia is 0.879713509162 from mean\n",
      "Country Austria is 1.38301844531 from mean\n",
      "Country Azerbaijan is 1.25451530138 from mean\n",
      "\n",
      "# Countrys negative away from mean\n",
      "Country Afghanistan is 1.82207181056 from mean\n",
      "Country Albania is 0.301447723045 from mean\n",
      "Country Algeria is 0.237196151078 from mean\n",
      "Country Angola is 0.847587313574 from mean\n",
      "Country Argentina is 0.183653037905 from mean\n",
      "Country Armenia is 1.00821665309 from mean\n",
      "Country Australia is 0.879713509162 from mean\n",
      "Country Austria is 1.38301844531 from mean\n",
      "Country Azerbaijan is 1.25451530138 from mean\n"
     ]
    }
   ],
   "source": [
    "# List countrys with have positive and negative away from mean separated\n",
    "\n",
    "is_positive = standarized_data > 0\n",
    "is_negative = standarized_data > 0\n",
    "\n",
    "print('# Countrys positive away from mean')\n",
    "for i,x in enumerate(standarized_data[is_positive]):\n",
    "    out = 'Country %s is %s from mean' % (countries[i], x)\n",
    "    print(out)\n",
    "    \n",
    "print('\\n# Countrys negative away from mean')\n",
    "for i,x in enumerate(standarized_data[is_negative]):\n",
    "    out = 'Country %s is %s from mean' % (countries[i], x)\n",
    "    print(out)"
   ]
  },
  {
   "cell_type": "code",
   "execution_count": null,
   "metadata": {
    "collapsed": true
   },
   "outputs": [],
   "source": []
  }
 ],
 "metadata": {
  "kernelspec": {
   "display_name": "Python 3",
   "language": "python",
   "name": "python3"
  },
  "language_info": {
   "codemirror_mode": {
    "name": "ipython",
    "version": 3
   },
   "file_extension": ".py",
   "mimetype": "text/x-python",
   "name": "python",
   "nbconvert_exporter": "python",
   "pygments_lexer": "ipython3",
   "version": "3.6.0"
  }
 },
 "nbformat": 4,
 "nbformat_minor": 2
}
